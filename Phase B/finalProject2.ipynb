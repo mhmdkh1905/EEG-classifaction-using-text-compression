{
  "cells": [
    {
      "cell_type": "markdown",
      "metadata": {
        "id": "2g-CMhiejfrr"
      },
      "source": [
        "# **Setup Environment**"
      ]
    },
    {
      "cell_type": "code",
      "execution_count": null,
      "metadata": {
        "id": "HtluTADKjTLw",
        "colab": {
          "base_uri": "https://localhost:8080/"
        },
        "outputId": "7968a22f-79fe-4b20-a512-35ea9215dabd"
      },
      "outputs": [
        {
          "output_type": "stream",
          "name": "stdout",
          "text": [
            "Requirement already satisfied: tqdm in /usr/local/lib/python3.11/dist-packages (4.67.1)\n",
            "Mounted at /content/drive\n",
            "✅ Environment setup complete!\n"
          ]
        }
      ],
      "source": [
        "# =============================\n",
        "# 📦 Install & Import Libraries\n",
        "# =============================\n",
        "\n",
        "import os                      # File and directory operations\n",
        "import numpy as np             # Numerical operations (not used yet, but commonly used for EEG data)\n",
        "import lzma                    # Compression library (used in NCD calculations)\n",
        "import matplotlib.pyplot as plt  # For plotting graphs\n",
        "from scipy.signal import butter, filtfilt  # For signal filtering (bandpass, etc.)\n",
        "import pandas as pd            # DataFrame handling and CSV/Excel reading/writing\n",
        "import zlib                    # Another compression library (used in NCD calculations)\n",
        "\n",
        "# Install tqdm for progress bars in loops\n",
        "!pip install tqdm\n",
        "\n",
        "# ================================\n",
        "# 🔗 Mount Google Drive to Colab\n",
        "# ================================\n",
        "from google.colab import drive\n",
        "\n",
        "# Mounts your Google Drive to '/content/drive'\n",
        "drive.mount('/content/drive')\n",
        "\n",
        "print(\"✅ Environment setup complete!\")"
      ]
    },
    {
      "cell_type": "markdown",
      "metadata": {
        "id": "xKgS82_1js8a"
      },
      "source": [
        "**Here’s the full list of all paths**"
      ]
    },
    {
      "cell_type": "code",
      "execution_count": null,
      "metadata": {
        "id": "Fuz6uLpjjtrj"
      },
      "outputs": [],
      "source": [
        "# ============================\n",
        "# 📁 Define Project Directories\n",
        "# ============================\n",
        "\n",
        "# Root folder for the entire project inside Google Drive\n",
        "main_path = \"/content/drive/MyDrive/finalProject/\"\n",
        "\n",
        "# Folder containing raw EEG CSV files for ADHD participants (v1p to v61p)\n",
        "adhd_folder = main_path + \"adhdcsv/\"\n",
        "\n",
        "# Folder containing raw EEG CSV files for Control participants (v62p to v121p)\n",
        "control_folder = main_path + \"controlcsv/\"\n",
        "\n",
        "# Folder to save bandpass-filtered EEG files for ADHD participants\n",
        "filtered_adhd_folder = main_path + \"filteredadhdcsv/\"\n",
        "\n",
        "# Folder to save bandpass-filtered EEG files for Control participants\n",
        "filtered_control_folder = main_path + \"filteredcontrolcsv/\""
      ]
    },
    {
      "cell_type": "markdown",
      "metadata": {
        "id": "1DhZIpehk_6A"
      },
      "source": [
        "# **preprocessing functions**"
      ]
    },
    {
      "cell_type": "markdown",
      "metadata": {
        "id": "nOy-lcOqlCAm"
      },
      "source": [
        "applying a bandpass filter (typically 1–40 Hz) to clean the EEG, remove noise.\n",
        "\n",
        "After filtering, saved:\n",
        "\n",
        "➔ ADHD participants' signals into /adhdcsv/\n",
        "\n",
        "➔ Control participants' signals into /controlcsv/"
      ]
    },
    {
      "cell_type": "code",
      "execution_count": null,
      "metadata": {
        "id": "TWbfDZUvlAPn"
      },
      "outputs": [],
      "source": [
        "# ==============================\n",
        "# 🎚️ Bandpass Filter Parameters\n",
        "# ==============================\n",
        "\n",
        "lowcut = 1.0     # Lower frequency bound (Hz)\n",
        "highcut = 40.0   # Upper frequency bound (Hz)\n",
        "fs = 128         # Sampling frequency (Hz)\n",
        "\n",
        "# ================================================\n",
        "# 🧠 Function: butter_bandpass\n",
        "# Purpose : Design a Butterworth bandpass filter\n",
        "# Inputs  : lowcut (Hz), highcut (Hz), fs (sampling rate), order (filter order)\n",
        "# Output  : Filter coefficients (b, a)\n",
        "# ================================================\n",
        "def butter_bandpass(lowcut, highcut, fs, order=5):\n",
        "    nyquist = 0.5 * fs  # Nyquist frequency\n",
        "    low = lowcut / nyquist\n",
        "    high = highcut / nyquist\n",
        "    b, a = butter(order, [low, high], btype='band')\n",
        "    return b, a\n",
        "\n",
        "# ======================================================\n",
        "# 🧠 Function: bandpass_filter\n",
        "# Purpose : Apply a Butterworth bandpass filter to signal\n",
        "# Inputs  : data (1D NumPy array or Pandas Series),\n",
        "#           lowcut, highcut (Hz), fs (sampling rate), order\n",
        "# Output  : Filtered signal (same shape as input)\n",
        "# ======================================================\n",
        "def bandpass_filter(data, lowcut, highcut, fs, order=5):\n",
        "    b, a = butter_bandpass(lowcut, highcut, fs, order=order)\n",
        "    y = filtfilt(b, a, data)  # Apply forward-backward filter for zero-phase distortion\n",
        "    return y"
      ]
    },
    {
      "cell_type": "code",
      "execution_count": null,
      "metadata": {
        "id": "NZLwH0helEFq"
      },
      "outputs": [],
      "source": [
        "# ========================================================================\n",
        "# 🧠 Function: process_files\n",
        "# Purpose : Apply bandpass filter to EEG CSV files and save new files\n",
        "# Inputs  :\n",
        "#    - input_folder: Path to original EEG CSV files\n",
        "#    - output_folder: Path where filtered CSVs will be saved\n",
        "#    - start_idx: First participant index (e.g., 1)\n",
        "#    - end_idx: Last participant index (e.g., 61)\n",
        "# Output  : Saves filtered CSV files to output_folder\n",
        "# ========================================================================\n",
        "def process_files(input_folder, output_folder, start_idx, end_idx):\n",
        "    os.makedirs(output_folder, exist_ok=True)  # Create folder if it doesn't exist\n",
        "\n",
        "    for i in range(start_idx, end_idx + 1):\n",
        "        filename = f\"v{i}p.csv\"\n",
        "        input_path = os.path.join(input_folder, filename)\n",
        "\n",
        "        if os.path.exists(input_path):\n",
        "            # Load the EEG data\n",
        "            df = pd.read_csv(input_path)\n",
        "\n",
        "            # Apply bandpass filter to each EEG channel (column)\n",
        "            filtered_df = df.copy()\n",
        "            for col in filtered_df.columns:\n",
        "                filtered_df[col] = bandpass_filter(filtered_df[col], lowcut, highcut, fs)\n",
        "\n",
        "            # Save the filtered data\n",
        "            output_path = os.path.join(output_folder, f\"filtered_v{i}p.csv\")\n",
        "            filtered_df.to_csv(output_path, index=False)\n",
        "\n",
        "            print(f\"✅ Filtered {filename} and saved to {output_path}\")\n",
        "        else:\n",
        "            print(f\"⚠️ File {filename} not found, skipping...\")"
      ]
    },
    {
      "cell_type": "code",
      "execution_count": null,
      "metadata": {
        "id": "ganYynQ3lFZ_"
      },
      "outputs": [],
      "source": [
        "# ===================================================\n",
        "# ▶️ Apply Filtering Function to ADHD & Control Data\n",
        "# ===================================================\n",
        "\n",
        "# Process ADHD participants: v1p.csv to v61p.csv\n",
        "process_files(adhd_folder, filtered_adhd_folder, start_idx=1, end_idx=61)\n",
        "\n",
        "# Process Control participants: v62p.csv to v121p.csv\n",
        "process_files(control_folder, filtered_control_folder, start_idx=62, end_idx=121)"
      ]
    },
    {
      "cell_type": "markdown",
      "metadata": {
        "id": "JYaZwMwulc4j"
      },
      "source": [
        "**Extracting Dominant EEG Band Sequences from Filtered Signals Using a Sliding Window Approach**"
      ]
    },
    {
      "cell_type": "code",
      "execution_count": null,
      "metadata": {
        "id": "BB-kQtC1mgZd"
      },
      "outputs": [],
      "source": [
        "# ========================================\n",
        "# 🧠 Brainwave Region to Letter Mapping\n",
        "# ========================================\n",
        "region_to_letter = {\n",
        "    \"Delta\": \"D\",\n",
        "    \"Theta\": \"T\",\n",
        "    \"Alpha\": \"A\",\n",
        "    \"Beta\": \"B\",\n",
        "    \"Gamma\": \"G\",\n",
        "    \"Unknown\": \"U\"\n",
        "}\n",
        "\n",
        "# =========================================================\n",
        "# 📥 Function: read_filtered_channel\n",
        "# Purpose : Read a specific EEG channel (column) from a CSV\n",
        "# Input   : filepath (CSV file path), channel (0-18)\n",
        "# Output  : 1D NumPy array of signal values from the channel\n",
        "# =========================================================\n",
        "def read_filtered_channel(filepath, channel):\n",
        "    df = pd.read_csv(filepath)\n",
        "    return df[str(channel)].values\n",
        "\n",
        "# =================================================================\n",
        "# 📏 Function: split_signal_into_windows\n",
        "# Purpose : Split a signal into fixed-length time windows\n",
        "# Input   : signal (1D array), fs (sampling rate), window_sec (sec)\n",
        "# Output  : List of NumPy arrays (each representing a window)\n",
        "# =================================================================\n",
        "def split_signal_into_windows(signal, fs=128, window_sec=1):\n",
        "    window_size = fs * window_sec\n",
        "    num_windows = len(signal) // window_size\n",
        "    windows = np.array_split(signal[:num_windows * window_size], num_windows)\n",
        "    return windows\n",
        "\n",
        "# ======================================================================\n",
        "# 📊 Function: compute_band_powers\n",
        "# Purpose : Calculate frequency band power using FFT on a time window\n",
        "# Input   : window (1D array), fs (sampling rate)\n",
        "# Output  : Dictionary with power values for Delta, Theta, Alpha, Beta, Gamma\n",
        "# ======================================================================\n",
        "def compute_band_powers(window, fs=128):\n",
        "    fft_result = np.fft.fft(window)\n",
        "    freqs = np.fft.fftfreq(len(window), 1/fs)\n",
        "    positive_freqs = freqs[:len(freqs)//2]\n",
        "    magnitude = np.abs(fft_result[:len(fft_result)//2]) ** 2\n",
        "\n",
        "    bands = {\n",
        "        \"Delta\": (0.5, 4),\n",
        "        \"Theta\": (4, 8),\n",
        "        \"Alpha\": (8, 13),\n",
        "        \"Beta\": (13, 30),\n",
        "        \"Gamma\": (30, 40)\n",
        "    }\n",
        "\n",
        "    band_powers = {}\n",
        "    for band_name, (low, high) in bands.items():\n",
        "        idx_band = np.where((positive_freqs >= low) & (positive_freqs < high))\n",
        "        band_power = np.sum(magnitude[idx_band])\n",
        "        band_powers[band_name] = band_power\n",
        "\n",
        "    return band_powers\n",
        "\n",
        "# =================================================================================\n",
        "# 🧠 Function: dominant_band_sequence\n",
        "# Purpose : Generate a sequence of dominant frequency bands (labels) over time\n",
        "# Input   : signal (1D EEG array), fs (sampling rate)\n",
        "# Output  : List of dominant bands (e.g., [\"Alpha\", \"Beta\", ...]) per window\n",
        "# =================================================================================\n",
        "def dominant_band_sequence(signal, fs=128):\n",
        "    window_size = fs * 2  # 2 seconds window (256 samples)\n",
        "    sequence = []\n",
        "    num_samples = len(signal)\n",
        "\n",
        "    for start_idx in range(0, num_samples - window_size + 1):\n",
        "        window = signal[start_idx:start_idx + window_size]\n",
        "        band_powers = compute_band_powers(window, fs=fs)\n",
        "        dominant_band = max(band_powers, key=band_powers.get)\n",
        "        sequence.append(dominant_band)\n",
        "\n",
        "    return sequence\n",
        "\n",
        "# =========================================================================================\n",
        "# 📁 Function: process_all_participants\n",
        "# Purpose : Process all participants’ EEG data across all 19 channels, compute dominant\n",
        "#           brainwave sequences, and save them as text files (letters D/T/A/B/G)\n",
        "# Input   : output_folder (destination to save labeled sequences)\n",
        "# Output  : Saves one .txt file per participant per channel with dominant band sequence\n",
        "# =========================================================================================\n",
        "def process_all_participants(output_folder):\n",
        "    os.makedirs(output_folder, exist_ok=True)\n",
        "\n",
        "    for i in range(1, 122):  # Participant IDs: v1p to v121p\n",
        "        if i <= 61:\n",
        "            input_path = os.path.join(filtered_adhd_folder, f\"filtered_v{i}p.csv\")\n",
        "        else:\n",
        "            input_path = os.path.join(filtered_control_folder, f\"filtered_v{i}p.csv\")\n",
        "\n",
        "        if not os.path.exists(input_path):\n",
        "            print(f\"⚠️ Missing {input_path}, skipping.\")\n",
        "            continue\n",
        "\n",
        "        try:\n",
        "            for channel in range(19):  # EEG channels 0 to 18\n",
        "                signal = read_filtered_channel(input_path, channel)\n",
        "                sequence = dominant_band_sequence(signal, fs=128)\n",
        "\n",
        "                # Convert band names to letters (e.g., A, B, D...)\n",
        "                sequence_text = ''.join(region_to_letter[region] for region in sequence)\n",
        "\n",
        "                # Save to file\n",
        "                output_filename = f\"v{i}p_channel{channel}.txt\"\n",
        "                output_path = os.path.join(output_folder, output_filename)\n",
        "\n",
        "                with open(output_path, 'w') as f:\n",
        "                    f.write(sequence_text)\n",
        "\n",
        "            print(f\"✅ Processed and saved Participant v{i}p to {output_folder}\")\n",
        "\n",
        "        except Exception as e:\n",
        "            print(f\"❌ Error processing v{i}p: {e}\")"
      ]
    },
    {
      "cell_type": "code",
      "execution_count": null,
      "metadata": {
        "id": "kjRAPILAj5D4"
      },
      "outputs": [],
      "source": [
        "# Run dominant band processing with different window segment sizes (final output folders)\n",
        "output_path = \"/content/drive/MyDrive/finalProject/brainwave_sequences_10s/\"\n",
        "process_all_participants(output_path)"
      ]
    },
    {
      "cell_type": "code",
      "execution_count": null,
      "metadata": {
        "id": "prcHWvbdj7HD"
      },
      "outputs": [],
      "source": [
        "output_path = \"/content/drive/MyDrive/finalProject/brainwave_sequences_8s/\"\n",
        "process_all_participants(output_path)"
      ]
    },
    {
      "cell_type": "code",
      "execution_count": null,
      "metadata": {
        "id": "OM8VhrJMj8g2"
      },
      "outputs": [],
      "source": [
        "output_path = \"/content/drive/MyDrive/finalProject/brainwave_sequences_6s/\"\n",
        "process_all_participants(output_path)"
      ]
    },
    {
      "cell_type": "code",
      "execution_count": null,
      "metadata": {
        "id": "J52nOOPqmr_T"
      },
      "outputs": [],
      "source": [
        "output_path = \"/content/drive/MyDrive/finalProject/brainwave_sequences_5s/\"\n",
        "process_all_participants(output_path)"
      ]
    },
    {
      "cell_type": "code",
      "execution_count": null,
      "metadata": {
        "id": "s3dwvAmc3zJp"
      },
      "outputs": [],
      "source": [
        "output_path = \"/content/drive/MyDrive/finalProject/brainwave_sequences_2s/\"\n",
        "process_all_participants(output_path)"
      ]
    },
    {
      "cell_type": "markdown",
      "metadata": {
        "id": "NqDL6I627Gr6"
      },
      "source": [
        "# **NCD Funtcion**"
      ]
    },
    {
      "cell_type": "markdown",
      "metadata": {
        "id": "Id5wVUEc2FsE"
      },
      "source": [
        "**ncd funtion with sliding window**"
      ]
    },
    {
      "cell_type": "code",
      "execution_count": null,
      "metadata": {
        "id": "uhSLSiOD7L5h"
      },
      "outputs": [],
      "source": [
        "import numpy as np\n",
        "import bz2\n",
        "\n",
        "# =========================================================================\n",
        "# 🧪 Function: compress_size\n",
        "# Purpose : Compress a string using bz2 and return the number of bytes\n",
        "# Input   : data (string)\n",
        "# Output  : Compressed length in bytes (int)\n",
        "# =========================================================================\n",
        "def compress_size(data):\n",
        "    compressed = bz2.compress(data.encode('utf-8'))\n",
        "    return len(compressed)\n",
        "\n",
        "# ============================================================================================\n",
        "# 🔁 Function: safe_compute_ncd_sliding_letters\n",
        "# Purpose : Compute the **average NCD** between two sequences using a **sliding window**\n",
        "# Input   : seq1, seq2 (strings of letters, e.g., \"ABDTG\")\n",
        "# Output  : Mean NCD value (float) using a sliding comparison of the shorter over the longer\n",
        "# Notes   :\n",
        "#   - Sequences are space-separated to improve compression effectiveness\n",
        "#   - The shorter sequence slides over the longer one\n",
        "#   - At each step, NCD is calculated and averaged at the end\n",
        "# ============================================================================================\n",
        "def safe_compute_ncd_sliding_letters(seq1, seq2):\n",
        "    s1 = ' '.join(seq1.strip())\n",
        "    s2 = ' '.join(seq2.strip())\n",
        "\n",
        "    s1_list = s1.split()\n",
        "    s2_list = s2.split()\n",
        "\n",
        "    if len(s1_list) <= len(s2_list):\n",
        "        short = s1_list\n",
        "        long = s2_list\n",
        "    else:\n",
        "        short = s2_list\n",
        "        long = s1_list\n",
        "\n",
        "    len_short = len(short)\n",
        "    len_long = len(long)\n",
        "    total_steps = len_long - len_short + 1\n",
        "\n",
        "    text_short = ' '.join(short)\n",
        "    compressed_short_size = compress_size(text_short)\n",
        "\n",
        "    ncd_values = []\n",
        "    for start in range(total_steps):\n",
        "        window = long[start:start + len_short]\n",
        "        text_window = ' '.join(window)\n",
        "\n",
        "        compressed_window_size = compress_size(text_window)\n",
        "        compressed_both_size = compress_size(text_short + text_window)\n",
        "\n",
        "        ncd = (compressed_both_size - min(compressed_short_size, compressed_window_size)) / max(compressed_short_size, compressed_window_size)\n",
        "        ncd_values.append(ncd)\n",
        "\n",
        "    return np.mean(ncd_values)"
      ]
    },
    {
      "cell_type": "markdown",
      "metadata": {
        "id": "OyzGITY_2VY0"
      },
      "source": [
        "**ncd function without sliding window**"
      ]
    },
    {
      "cell_type": "code",
      "execution_count": null,
      "metadata": {
        "id": "kC0-p7Jg2aCA"
      },
      "outputs": [],
      "source": [
        "# ===================================================================================\n",
        "# 📏 Function: ncd\n",
        "# Purpose : Compute **regular NCD** (no sliding) between two letter sequences\n",
        "# Input   : seq1, seq2 (strings of letters, e.g., \"ABDTG\")\n",
        "# Output  : Single NCD value (float)\n",
        "# Notes   :\n",
        "#   - Sequences are trimmed to the same length before compression\n",
        "#   - Uses bz2 compression\n",
        "# ===================================================================================\n",
        "def ncd(seq1, seq2):\n",
        "    spaced1 = ' '.join(seq1.strip())\n",
        "    spaced2 = ' '.join(seq2.strip())\n",
        "\n",
        "    # Trim both to equal length\n",
        "    min_len = min(len(spaced1), len(spaced2))\n",
        "    spaced1 = spaced1[:min_len]\n",
        "    spaced2 = spaced2[:min_len]\n",
        "\n",
        "    c1 = compress_size(spaced1)\n",
        "    c2 = compress_size(spaced2)\n",
        "    c12 = compress_size(spaced1 + spaced2)\n",
        "\n",
        "    return (c12 - min(c1, c2)) / max(c1, c2)"
      ]
    },
    {
      "cell_type": "markdown",
      "metadata": {
        "id": "VuChyNcq2MY2"
      },
      "source": [
        "**function to read the brain_sequence txt file**"
      ]
    },
    {
      "cell_type": "code",
      "execution_count": null,
      "metadata": {
        "id": "fSkPRIoz7WPM"
      },
      "outputs": [],
      "source": [
        "# =======================================================================\n",
        "# 📂 Function: read_sequence\n",
        "# Purpose : Read a brainwave sequence from a file (saved as a string of letters)\n",
        "# Input   : filepath (path to .txt file containing the sequence)\n",
        "# Output  : Sequence string (e.g., \"ABDBTGGT...\")\n",
        "# =======================================================================\n",
        "def read_sequence(filepath):\n",
        "    with open(filepath, 'r') as f:\n",
        "        return f.read().strip()"
      ]
    },
    {
      "cell_type": "markdown",
      "metadata": {
        "id": "gprjFnnByrSZ"
      },
      "source": [
        "# **dividing to parts**"
      ]
    },
    {
      "cell_type": "code",
      "execution_count": null,
      "metadata": {
        "id": "hotDbkuiy3D8"
      },
      "outputs": [],
      "source": [
        "from tqdm import tqdm\n",
        "\n",
        "# ====================================================================================\n",
        "# ✂️ Function: split_sequence\n",
        "# Purpose : Divide a full brainwave sequence into smaller parts of equal length\n",
        "# Input   :\n",
        "#   - seq (str): full sequence string (e.g., \"ABBTTGGDA...\")\n",
        "#   - part_length (int): length of each part (e.g., 100)\n",
        "# Output  : List of substrings (each of length `part_length`)\n",
        "# Notes   : Discards any remainder shorter than `part_length`\n",
        "# ====================================================================================\n",
        "def split_sequence(seq, part_length):\n",
        "    return [seq[i:i+part_length] for i in range(0, len(seq), part_length) if len(seq[i:i+part_length]) == part_length]\n",
        "\n",
        "# =========================================================================================\n",
        "# 🔄 Function: compare_parts_and_save\n",
        "# Purpose : Compare all parts of participant `p1` vs all parts of participant `p2` for a\n",
        "#           specific channel using regular NCD. Save results in an Excel file.\n",
        "# Input   :\n",
        "#   - sequence_folder (str): Folder with input .txt files (brainwave sequences)\n",
        "#   - output_folder (str): Folder to store result Excel files\n",
        "#   - p1, p2 (int): Participant IDs to compare (v{p1}p vs v{p2}p)\n",
        "#   - channel (int): Channel number (0–18)\n",
        "#   - part_length (int): Length of each part in the sequence\n",
        "# Output  : None (writes comparison results to Excel file)\n",
        "# File Naming: Result is saved as: channel{X}/v{p1}p_vs_v{p2}p_channel{X}.xlsx\n",
        "# Skip Logic: If file already exists, or sequence files are missing, the function skips\n",
        "# =========================================================================================\n",
        "def compare_parts_and_save(sequence_folder, output_folder, p1, p2, channel, part_length):\n",
        "    file1 = os.path.join(sequence_folder, f\"v{p1}p_channel{channel}.txt\")\n",
        "    file2 = os.path.join(sequence_folder, f\"v{p2}p_channel{channel}.txt\")\n",
        "\n",
        "    # 📂 Create output directory and define result path\n",
        "    channel_folder = os.path.join(output_folder, f\"channel{channel}\")\n",
        "    os.makedirs(channel_folder, exist_ok=True)\n",
        "    file_path = os.path.join(channel_folder, f\"v{p1}p_vs_v{p2}p_channel{channel}.xlsx\")\n",
        "\n",
        "    # ✅ Skip if already computed\n",
        "    if os.path.exists(file_path):\n",
        "        return\n",
        "\n",
        "    # 🚫 Skip if sequence files are missing\n",
        "    if not os.path.exists(file1) or not os.path.exists(file2):\n",
        "        return\n",
        "\n",
        "    # 🔄 Read sequences\n",
        "    with open(file1, 'r') as f1, open(file2, 'r') as f2:\n",
        "        seq1 = f1.read().strip()\n",
        "        seq2 = f2.read().strip()\n",
        "\n",
        "    # 🧩 Split into parts\n",
        "    parts1 = split_sequence(seq1, part_length)\n",
        "    parts2 = split_sequence(seq2, part_length)\n",
        "\n",
        "    # 📏 Compute NCD between every part of p1 vs every part of p2\n",
        "    rows = []\n",
        "    for i, part1 in enumerate(parts1, start=1):\n",
        "        for j, part2 in enumerate(parts2, start=1):\n",
        "            val = ncd(part1, part2)\n",
        "            rows.append([i, part1, j, part2, val])\n",
        "\n",
        "    # 📊 Save results to Excel\n",
        "    df = pd.DataFrame(rows, columns=[\n",
        "        f\"Part #{p1}p\", f\"Sequence {p1}p\",\n",
        "        f\"Part #{p2}p\", f\"Sequence {p2}p\",\n",
        "        \"NCD Value\"\n",
        "    ])\n",
        "    df.to_excel(file_path, index=False)\n",
        "\n",
        "# =========================================================================================\n",
        "# 📚 Function: process_unique_pairs_by_channel\n",
        "# Purpose : For each channel, compare all unique participant pairs (v1p-v2p, v1p-v3p, ...,\n",
        "#           v120p-v121p) and save NCD results using `compare_parts_and_save`\n",
        "# Input   :\n",
        "#   - sequence_folder (str): Folder where all sequences are stored (1 txt per participant/channel)\n",
        "#   - output_base_folder (str): Where to save Excel files\n",
        "#   - part_length (int): Length of parts to divide sequences into\n",
        "# Output  : None (Excel files are written for each participant pair per channel)\n",
        "# =========================================================================================\n",
        "def process_unique_pairs_by_channel(sequence_folder, output_base_folder, part_length):\n",
        "    os.makedirs(output_base_folder, exist_ok=True)\n",
        "\n",
        "    for channel in range(19):  # EEG channels 0–18\n",
        "        print(f\"\\n🔁 Channel {channel}...\")\n",
        "        for p1 in tqdm(range(1, 121), desc=f\"Channel {channel}\"):\n",
        "            for p2 in range(p1 + 1, 122):  # Only unique pairs (p2 > p1)\n",
        "                compare_parts_and_save(\n",
        "                    sequence_folder=sequence_folder,\n",
        "                    output_folder=output_base_folder,\n",
        "                    p1=p1,\n",
        "                    p2=p2,\n",
        "                    channel=channel,\n",
        "                    part_length=part_length\n",
        "                )\n"
      ]
    },
    {
      "cell_type": "code",
      "execution_count": null,
      "metadata": {
        "id": "TMbiuHp63j54"
      },
      "outputs": [],
      "source": [
        "process_unique_pairs_by_channel(\n",
        "    sequence_folder=\"/content/drive/MyDrive/finalProject/brainwave_sequences_5s/\",\n",
        "    output_base_folder=\"/content/drive/MyDrive/finalProject/parts_ncd_5s/\",\n",
        "    part_length=1000\n",
        ")"
      ]
    },
    {
      "cell_type": "code",
      "execution_count": null,
      "metadata": {
        "id": "V2ms6yeDm07A"
      },
      "outputs": [],
      "source": [
        "process_unique_pairs_by_channel(\n",
        "    sequence_folder=\"/content/drive/MyDrive/finalProject/brainwave_sequences_6s/\",\n",
        "    output_base_folder=\"/content/drive/MyDrive/finalProject/parts_ncd_6s/\",\n",
        "    part_length=1000\n",
        ")"
      ]
    },
    {
      "cell_type": "code",
      "execution_count": null,
      "metadata": {
        "id": "oEz7u4NTm2g9"
      },
      "outputs": [],
      "source": [
        "process_unique_pairs_by_channel(\n",
        "    sequence_folder=\"/content/drive/MyDrive/finalProject/brainwave_sequences_8s/\",\n",
        "    output_base_folder=\"/content/drive/MyDrive/finalProject/parts_ncd_8s/\",\n",
        "    part_length=1000\n",
        ")"
      ]
    },
    {
      "cell_type": "code",
      "execution_count": null,
      "metadata": {
        "id": "SH5MGz3tm4C3"
      },
      "outputs": [],
      "source": [
        "process_unique_pairs_by_channel(\n",
        "    sequence_folder=\"/content/drive/MyDrive/finalProject/brainwave_sequences_10s/\",\n",
        "    output_base_folder=\"/content/drive/MyDrive/finalProject/parts_ncd_10s/\",\n",
        "    part_length=1000\n",
        ")"
      ]
    },
    {
      "cell_type": "code",
      "execution_count": null,
      "metadata": {
        "id": "uxKjFiD8LJrB"
      },
      "outputs": [],
      "source": [
        "process_unique_pairs_by_channel(\n",
        "    sequence_folder=\"/content/drive/MyDrive/finalProject/brainwave_sequences_2s/\",\n",
        "    output_base_folder=\"/content/drive/MyDrive/finalProject/parts_ncd_2s/\",\n",
        "    part_length=1000\n",
        ")"
      ]
    },
    {
      "cell_type": "markdown",
      "metadata": {
        "id": "zwXc4tj5m79n"
      },
      "source": [
        "# **Classifacation using the parts and average**"
      ]
    },
    {
      "cell_type": "code",
      "execution_count": null,
      "metadata": {
        "id": "M_H7pOmC2DwC"
      },
      "outputs": [],
      "source": [
        "import os\n",
        "import pandas as pd\n",
        "import re\n",
        "from tqdm.notebook import tqdm  # tqdm.notebook is preferred for Google Colab\n",
        "\n",
        "# =============================================================================\n",
        "# 🧩 Function: extract_file_info\n",
        "# Purpose : Extracts participant IDs and channel number from filenames like\n",
        "#           \"v5p_vs_v88p_channel2.xlsx\"\n",
        "# Input   : filename (str)\n",
        "# Output  : tuple (participant1_id, participant2_id, channel_id) or None\n",
        "# =============================================================================\n",
        "def extract_file_info(filename):\n",
        "    match = re.match(r'v(\\d+)p_vs_v(\\d+)p_channel(\\d+)', filename)\n",
        "    if match:\n",
        "        return tuple(map(int, match.groups()))\n",
        "    return None\n",
        "\n",
        "# =============================================================================\n",
        "# 👤 Function: get_other_participant\n",
        "# Purpose : Given a file and current participant ID, return the \"other\" ID\n",
        "# Input   : filename (str), current_id (int)\n",
        "# Output  : int (ID of the other participant)\n",
        "# =============================================================================\n",
        "def get_other_participant(file, current_id):\n",
        "    i, j, _ = extract_file_info(file)\n",
        "    return j if i == current_id else i\n",
        "\n",
        "# =============================================================================\n",
        "# 🧠 Function: get_group\n",
        "# Purpose : Classify participant as 'ADHD' (IDs 1–61) or 'CONTROL' (62–121)\n",
        "# Input   : participant_id (int)\n",
        "# Output  : str (\"ADHD\" or \"CONTROL\")\n",
        "# =============================================================================\n",
        "def get_group(participant_id):\n",
        "    return \"ADHD\" if 1 <= participant_id <= 61 else \"CONTROL\"\n",
        "\n",
        "# =====================================================================================\n",
        "# 📊 Function: process_all_participants_all_channels_using_avg\n",
        "# Purpose : For each participant and channel, read NCD part-comparison results,\n",
        "#           compute average NCD values with others, and classify using top 61 and\n",
        "#           bottom 60 neighbors based on group match.\n",
        "#\n",
        "# Classification Logic:\n",
        "#   - Sort all 121 comparisons for a participant based on average NCD value.\n",
        "#   - Top 61 are assumed to be \"similar\" to the participant (same group expected).\n",
        "#   - Bottom 60 are assumed to be \"different\" (other group expected).\n",
        "#   - Classification score = (# correct matches) / 121\n",
        "#\n",
        "# Input   :\n",
        "#   - version (str): one of \"2s\", \"5s\", \"6s\", etc. (used in folder naming)\n",
        "#   - base_path (str): root path to the project (default set for Colab)\n",
        "# Output  : For each participant-channel pair, saves a .txt file with average NCDs\n",
        "#           and classification score to: avg/{version}/channel{X}/participant_{ID}.txt\n",
        "# =====================================================================================\n",
        "def process_all_participants_all_channels_using_avg(version, base_path=\"/content/drive/MyDrive/finalProject/\"):\n",
        "    for channel in tqdm(range(19), desc=\"🔁 Channels\"):\n",
        "        input_folder = os.path.join(base_path, f\"parts_ncd_{version}\", f\"channel{channel}\")\n",
        "        output_folder = os.path.join(base_path, f\"avg/{version}\", f\"channel{channel}\")\n",
        "        os.makedirs(output_folder, exist_ok=True)\n",
        "\n",
        "        if not os.path.exists(input_folder):\n",
        "            print(f\"⚠️ Skipping missing folder: {input_folder}\")\n",
        "            continue\n",
        "\n",
        "        for participant_id in tqdm(range(1, 122), desc=f\"Channel {channel}\", leave=False):\n",
        "            output_file = os.path.join(output_folder, f\"participant_{participant_id}.txt\")\n",
        "\n",
        "            # ✅ Skip if already processed\n",
        "            if os.path.exists(output_file):\n",
        "                print(f\"⏭️ Skipping participant {participant_id} in channel {channel} (already exists)\")\n",
        "                continue\n",
        "\n",
        "            results = []\n",
        "\n",
        "            # 📂 Go through all Excel files in the input folder\n",
        "            for file in os.listdir(input_folder):\n",
        "                if not file.endswith(\".xlsx\") or \"channel\" not in file:\n",
        "                    continue\n",
        "\n",
        "                info = extract_file_info(file)\n",
        "                if info is None:\n",
        "                    continue\n",
        "\n",
        "                i, j, _ = info\n",
        "                if participant_id not in (i, j):\n",
        "                    continue  # Only include files where this participant is involved\n",
        "\n",
        "                full_path = os.path.join(input_folder, file)\n",
        "                try:\n",
        "                    df = pd.read_excel(full_path)\n",
        "                except Exception as e:\n",
        "                    print(f\"❌ Failed to read {file}: {e}\")\n",
        "                    continue\n",
        "\n",
        "                if 'NCD Value' not in df.columns:\n",
        "                    print(f\"⚠️ Skipping {file}: no 'NCD Value' column\")\n",
        "                    continue\n",
        "\n",
        "                # ➕ Average NCD over all part comparisons\n",
        "                avg_ncd = df[\"NCD Value\"].mean()\n",
        "                results.append((file, avg_ncd))\n",
        "\n",
        "            if not results:\n",
        "                continue\n",
        "\n",
        "            # 📊 Sort all comparisons by NCD (smallest = most similar)\n",
        "            results.sort(key=lambda x: x[1])\n",
        "\n",
        "            # 🧠 Classification: Compare top 61 and bottom 60 against true group\n",
        "            true_group = get_group(participant_id)\n",
        "            same_group_top = 0\n",
        "            other_group_bottom = 0\n",
        "\n",
        "            top_61 = results[:61]\n",
        "            bottom_60 = results[61:]\n",
        "\n",
        "            for file, _ in top_61:\n",
        "                other_id = get_other_participant(file, participant_id)\n",
        "                if get_group(other_id) == true_group:\n",
        "                    same_group_top += 1\n",
        "\n",
        "            for file, _ in bottom_60:\n",
        "                other_id = get_other_participant(file, participant_id)\n",
        "                if get_group(other_id) != true_group:\n",
        "                    other_group_bottom += 1\n",
        "\n",
        "            correct_predictions = same_group_top + other_group_bottom\n",
        "            classification_score = correct_predictions / 121\n",
        "\n",
        "            # 💾 Save results to output file\n",
        "            with open(output_file, \"w\") as f:\n",
        "                f.write(f\"Participant {participant_id} - Channel {channel}\\n\")\n",
        "                for file, avg in results:\n",
        "                    f.write(f\"{file}: {avg:.5f}\\n\")\n",
        "                f.write(f\"\\nClassification Score: {classification_score:.5f} ({correct_predictions}/121)\\n\")\n"
      ]
    },
    {
      "cell_type": "code",
      "execution_count": null,
      "metadata": {
        "id": "Y9BlukzY2GYr"
      },
      "outputs": [],
      "source": [
        "process_all_participants_all_channels_using_avg(version=\"5s\")"
      ]
    },
    {
      "cell_type": "code",
      "execution_count": null,
      "metadata": {
        "id": "47EikHS4kIot"
      },
      "outputs": [],
      "source": [
        "process_all_participants_all_channels_using_avg(version=\"6s\")"
      ]
    },
    {
      "cell_type": "code",
      "execution_count": null,
      "metadata": {
        "id": "UK7IhwGIQVkU"
      },
      "outputs": [],
      "source": [
        "process_all_participants_all_channels_using_avg(version=\"8s\")"
      ]
    },
    {
      "cell_type": "code",
      "execution_count": null,
      "metadata": {
        "id": "6QBC6aSMTkZT"
      },
      "outputs": [],
      "source": [
        "process_all_participants_all_channels_using_avg(version=\"10s\")"
      ]
    },
    {
      "cell_type": "code",
      "execution_count": null,
      "metadata": {
        "id": "h4vEdP9TeIG1"
      },
      "outputs": [],
      "source": [
        "process_all_participants_all_channels_using_avg(version=\"2s\")"
      ]
    },
    {
      "cell_type": "markdown",
      "metadata": {
        "id": "OUJGL54UdwtP"
      },
      "source": [
        "# **Classifacation using the parts and median**"
      ]
    },
    {
      "cell_type": "code",
      "execution_count": null,
      "metadata": {
        "id": "UHvSPIBydyDg"
      },
      "outputs": [],
      "source": [
        "import os\n",
        "import pandas as pd\n",
        "import re\n",
        "from tqdm.notebook import tqdm  # Use notebook version for progress bars in Colab\n",
        "\n",
        "# =============================================================================\n",
        "# 📄 extract_file_info\n",
        "# Extracts participant IDs and channel ID from filenames like:\n",
        "#   \"v5p_vs_v88p_channel2.xlsx\"\n",
        "# Returns: (participant1_id, participant2_id, channel_id) or None\n",
        "# =============================================================================\n",
        "def extract_file_info(filename):\n",
        "    match = re.match(r'v(\\d+)p_vs_v(\\d+)p_channel(\\d+)', filename)\n",
        "    if match:\n",
        "        return tuple(map(int, match.groups()))\n",
        "    return None\n",
        "\n",
        "# =============================================================================\n",
        "# 🔁 get_other_participant\n",
        "# Given a filename and one participant ID, return the \"other\" participant ID\n",
        "# =============================================================================\n",
        "def get_other_participant(file, current_id):\n",
        "    i, j, _ = extract_file_info(file)\n",
        "    return j if i == current_id else i\n",
        "\n",
        "# =============================================================================\n",
        "# 🧠 get_group\n",
        "# Maps participant ID to group:\n",
        "#   - \"ADHD\" if ID is from 1 to 61\n",
        "#   - \"CONTROL\" if ID is from 62 to 121\n",
        "# =============================================================================\n",
        "def get_group(participant_id):\n",
        "    return \"ADHD\" if 1 <= participant_id <= 61 else \"CONTROL\"\n",
        "\n",
        "# =============================================================================\n",
        "# 🧪 process_all_participants_all_channels_using_median\n",
        "# Description:\n",
        "#   For each participant and channel:\n",
        "#     - Reads all NCD-part comparison Excel files involving that participant.\n",
        "#     - Computes the median NCD value for each file.\n",
        "#     - Sorts the files based on these median values (lower = more similar).\n",
        "#     - The top 61 are expected to be the same group, the bottom 60 different.\n",
        "#     - Classification score = correct matches / 121\n",
        "# Output:\n",
        "#   A text file per participant/channel containing the results and classification.\n",
        "# Output path: /median/{version}/channel{X}/participant_{id}.txt\n",
        "# =============================================================================\n",
        "def process_all_participants_all_channels_using_median(version, base_path=\"/content/drive/MyDrive/finalProject/\"):\n",
        "    for channel in tqdm(range(19), desc=\"🔁 Channels\"):\n",
        "        input_folder = os.path.join(base_path, f\"parts_ncd_{version}\", f\"channel{channel}\")\n",
        "        output_folder = os.path.join(base_path, f\"median/{version}\", f\"channel{channel}\")  # 📁 Output goes to /median\n",
        "        os.makedirs(output_folder, exist_ok=True)\n",
        "\n",
        "        if not os.path.exists(input_folder):\n",
        "            print(f\"⚠️ Skipping missing folder: {input_folder}\")\n",
        "            continue\n",
        "\n",
        "        for participant_id in tqdm(range(1, 122), desc=f\"Channel {channel}\", leave=False):\n",
        "            output_file = os.path.join(output_folder, f\"participant_{participant_id}.txt\")\n",
        "\n",
        "            # ✅ Skip already processed participants\n",
        "            if os.path.exists(output_file):\n",
        "                print(f\"⏭️ Skipping participant {participant_id} in channel {channel} (already exists)\")\n",
        "                continue\n",
        "\n",
        "            results = []\n",
        "\n",
        "            # 📂 Loop through all files in the folder\n",
        "            for file in os.listdir(input_folder):\n",
        "                if not file.endswith(\".xlsx\") or \"channel\" not in file:\n",
        "                    continue\n",
        "\n",
        "                info = extract_file_info(file)\n",
        "                if info is None:\n",
        "                    continue\n",
        "\n",
        "                i, j, _ = info\n",
        "                if participant_id not in (i, j):\n",
        "                    continue  # Only use comparisons involving this participant\n",
        "\n",
        "                full_path = os.path.join(input_folder, file)\n",
        "                try:\n",
        "                    df = pd.read_excel(full_path)\n",
        "                except Exception as e:\n",
        "                    print(f\"❌ Failed to read {file}: {e}\")\n",
        "                    continue\n",
        "\n",
        "                if 'NCD Value' not in df.columns:\n",
        "                    print(f\"⚠️ Skipping {file}: no 'NCD Value' column\")\n",
        "                    continue\n",
        "\n",
        "                # 🔢 Compute the median of the NCD values\n",
        "                median_ncd = df[\"NCD Value\"].median()\n",
        "                results.append((file, median_ncd))\n",
        "\n",
        "            if not results:\n",
        "                continue\n",
        "\n",
        "            # 🔽 Sort results: smallest median NCDs first\n",
        "            results.sort(key=lambda x: x[1])\n",
        "\n",
        "            # 🧠 Classification\n",
        "            true_group = get_group(participant_id)\n",
        "            same_group_top = 0\n",
        "            other_group_bottom = 0\n",
        "\n",
        "            # 🎯 Check top 61 (should match group), bottom 60 (should not)\n",
        "            top_61 = results[:61]\n",
        "            bottom_60 = results[61:]\n",
        "\n",
        "            for file, _ in top_61:\n",
        "                other_id = get_other_participant(file, participant_id)\n",
        "                if get_group(other_id) == true_group:\n",
        "                    same_group_top += 1\n",
        "\n",
        "            for file, _ in bottom_60:\n",
        "                other_id = get_other_participant(file, participant_id)\n",
        "                if get_group(other_id) != true_group:\n",
        "                    other_group_bottom += 1\n",
        "\n",
        "            correct_predictions = same_group_top + other_group_bottom\n",
        "            classification_score = correct_predictions / 121\n",
        "\n",
        "            # 💾 Save to output file\n",
        "            with open(output_file, \"w\") as f:\n",
        "                f.write(f\"Participant {participant_id} - Channel {channel} (Median-Based)\\n\")\n",
        "                for file, med in results:\n",
        "                    f.write(f\"{file}: {med:.5f}\\n\")\n",
        "                f.write(f\"\\nClassification Score: {classification_score:.5f} ({correct_predictions}/121)\\n\")\n"
      ]
    },
    {
      "cell_type": "code",
      "execution_count": null,
      "metadata": {
        "id": "7ALy2rdJeh3C"
      },
      "outputs": [],
      "source": [
        "process_all_participants_all_channels_using_median(\"2s\")"
      ]
    },
    {
      "cell_type": "code",
      "source": [
        "process_all_participants_all_channels_using_median(\"5s\")"
      ],
      "metadata": {
        "id": "LYEkC1C48seM"
      },
      "execution_count": null,
      "outputs": []
    },
    {
      "cell_type": "code",
      "source": [
        "process_all_participants_all_channels_using_median(\"6s\")"
      ],
      "metadata": {
        "id": "cTryLYXC8tK1"
      },
      "execution_count": null,
      "outputs": []
    },
    {
      "cell_type": "code",
      "source": [
        "process_all_participants_all_channels_using_median(\"8s\")"
      ],
      "metadata": {
        "id": "nl2ejpXJ8t2Y"
      },
      "execution_count": null,
      "outputs": []
    },
    {
      "cell_type": "code",
      "source": [
        "process_all_participants_all_channels_using_median(\"10s\")"
      ],
      "metadata": {
        "id": "yUw9RAU98uwM"
      },
      "execution_count": null,
      "outputs": []
    },
    {
      "cell_type": "markdown",
      "metadata": {
        "id": "UZ62ohHqhy4V"
      },
      "source": [
        "# **Classifacation using the parts and min**"
      ]
    },
    {
      "cell_type": "code",
      "execution_count": null,
      "metadata": {
        "id": "M-5a6vWZh06b"
      },
      "outputs": [],
      "source": [
        "import os\n",
        "import pandas as pd\n",
        "import re\n",
        "from tqdm.notebook import tqdm  # For progress bars in Colab notebooks\n",
        "\n",
        "# =============================================================================\n",
        "# 📄 extract_file_info\n",
        "# Extracts participant IDs and channel number from filenames like:\n",
        "#   \"v5p_vs_v88p_channel2.xlsx\"\n",
        "# Returns: (participant1_id, participant2_id, channel_id)\n",
        "# =============================================================================\n",
        "def extract_file_info(filename):\n",
        "    match = re.match(r'v(\\d+)p_vs_v(\\d+)p_channel(\\d+)', filename)\n",
        "    if match:\n",
        "        return tuple(map(int, match.groups()))\n",
        "    return None\n",
        "\n",
        "# =============================================================================\n",
        "# 🔁 get_other_participant\n",
        "# Given a filename and one participant ID, returns the other participant in that comparison\n",
        "# =============================================================================\n",
        "def get_other_participant(file, current_id):\n",
        "    i, j, _ = extract_file_info(file)\n",
        "    return j if i == current_id else i\n",
        "\n",
        "# =============================================================================\n",
        "# 🧠 get_group\n",
        "# Classifies participant into group:\n",
        "#   - \"ADHD\" for IDs 1 to 61\n",
        "#   - \"CONTROL\" for IDs 62 to 121\n",
        "# =============================================================================\n",
        "def get_group(participant_id):\n",
        "    return \"ADHD\" if 1 <= participant_id <= 61 else \"CONTROL\"\n",
        "\n",
        "# =============================================================================\n",
        "# 🧪 process_all_participants_all_channels_using_min\n",
        "# Description:\n",
        "#   For each participant and each EEG channel:\n",
        "#     - Read all NCD-part-comparison files where that participant appears.\n",
        "#     - Extract the **minimum NCD value** from each file.\n",
        "#     - Sort all files by minimum NCD (most similar = lowest NCD).\n",
        "#     - Evaluate classification accuracy based on expected group similarity.\n",
        "# Output:\n",
        "#   Saves a text file per participant per channel to:\n",
        "#     /min/{version}/channel{X}/participant_{ID}.txt\n",
        "#   This file includes sorted file results and a classification score.\n",
        "# =============================================================================\n",
        "def process_all_participants_all_channels_using_min(version, base_path=\"/content/drive/MyDrive/finalProject/\"):\n",
        "    for channel in tqdm(range(19), desc=\"🔁 Channels\"):\n",
        "        input_folder = os.path.join(base_path, f\"parts_ncd_{version}\", f\"channel{channel}\")\n",
        "        output_folder = os.path.join(base_path, f\"min/{version}\", f\"channel{channel}\")  # 📁 Save to /min folder\n",
        "        os.makedirs(output_folder, exist_ok=True)\n",
        "\n",
        "        if not os.path.exists(input_folder):\n",
        "            print(f\"⚠️ Skipping missing folder: {input_folder}\")\n",
        "            continue\n",
        "\n",
        "        for participant_id in tqdm(range(1, 122), desc=f\"Channel {channel}\", leave=False):\n",
        "            output_file = os.path.join(output_folder, f\"participant_{participant_id}.txt\")\n",
        "\n",
        "            # ✅ Skip already processed results\n",
        "            if os.path.exists(output_file):\n",
        "                print(f\"⏭️ Skipping participant {participant_id} in channel {channel} (already exists)\")\n",
        "                continue\n",
        "\n",
        "            results = []\n",
        "\n",
        "            # 🔍 Loop over all pairwise comparison files\n",
        "            for file in os.listdir(input_folder):\n",
        "                if not file.endswith(\".xlsx\") or \"channel\" not in file:\n",
        "                    continue\n",
        "\n",
        "                info = extract_file_info(file)\n",
        "                if info is None:\n",
        "                    continue\n",
        "\n",
        "                i, j, _ = info\n",
        "                if participant_id not in (i, j):\n",
        "                    continue  # Only process files involving this participant\n",
        "\n",
        "                full_path = os.path.join(input_folder, file)\n",
        "                try:\n",
        "                    df = pd.read_excel(full_path)\n",
        "                except Exception as e:\n",
        "                    print(f\"❌ Failed to read {file}: {e}\")\n",
        "                    continue\n",
        "\n",
        "                if 'NCD Value' not in df.columns:\n",
        "                    print(f\"⚠️ Skipping {file}: no 'NCD Value' column\")\n",
        "                    continue\n",
        "\n",
        "                # 🔢 Extract the minimum NCD from the file\n",
        "                min_ncd = df[\"NCD Value\"].min()\n",
        "                results.append((file, min_ncd))\n",
        "\n",
        "            if not results:\n",
        "                continue\n",
        "\n",
        "            # 🔽 Sort comparisons by lowest NCD (most similar)\n",
        "            results.sort(key=lambda x: x[1])\n",
        "\n",
        "            # 🎯 Evaluate classification accuracy\n",
        "            true_group = get_group(participant_id)\n",
        "            same_group_top = 0\n",
        "            other_group_bottom = 0\n",
        "\n",
        "            # Top 61 files expected to be same group, bottom 60 expected to be other group\n",
        "            top_61 = results[:61]\n",
        "            bottom_60 = results[61:]\n",
        "\n",
        "            for file, _ in top_61:\n",
        "                other_id = get_other_participant(file, participant_id)\n",
        "                if get_group(other_id) == true_group:\n",
        "                    same_group_top += 1\n",
        "\n",
        "            for file, _ in bottom_60:\n",
        "                other_id = get_other_participant(file, participant_id)\n",
        "                if get_group(other_id) != true_group:\n",
        "                    other_group_bottom += 1\n",
        "\n",
        "            correct_predictions = same_group_top + other_group_bottom\n",
        "            classification_score = correct_predictions / 121\n",
        "\n",
        "            # 💾 Write results to text file\n",
        "            with open(output_file, \"w\") as f:\n",
        "                f.write(f\"Participant {participant_id} - Channel {channel} (Min-Based)\\n\")\n",
        "                for file, min_val in results:\n",
        "                    f.write(f\"{file}: {min_val:.5f}\\n\")\n",
        "                f.write(f\"\\nClassification Score: {classification_score:.5f} ({correct_predictions}/121)\\n\")\n"
      ]
    },
    {
      "cell_type": "code",
      "execution_count": null,
      "metadata": {
        "id": "4kys9zHMh390"
      },
      "outputs": [],
      "source": [
        "process_all_participants_all_channels_using_min(\"2s\")"
      ]
    },
    {
      "cell_type": "code",
      "source": [
        "process_all_participants_all_channels_using_min(\"5s\")"
      ],
      "metadata": {
        "id": "aJpOOyjd9jGr"
      },
      "execution_count": null,
      "outputs": []
    },
    {
      "cell_type": "code",
      "source": [
        "process_all_participants_all_channels_using_min(\"6s\")"
      ],
      "metadata": {
        "id": "40wej4Cp9klp"
      },
      "execution_count": null,
      "outputs": []
    },
    {
      "cell_type": "code",
      "source": [
        "process_all_participants_all_channels_using_min(\"8s\")"
      ],
      "metadata": {
        "id": "0iRweN-49luI"
      },
      "execution_count": null,
      "outputs": []
    },
    {
      "cell_type": "code",
      "source": [
        "process_all_participants_all_channels_using_min(\"10s\")"
      ],
      "metadata": {
        "id": "k6vxT7669mwO"
      },
      "execution_count": null,
      "outputs": []
    },
    {
      "cell_type": "markdown",
      "metadata": {
        "id": "I9HDLPHK5LGk"
      },
      "source": [
        "# **Classification based on median for (avg,median,min)**"
      ]
    },
    {
      "cell_type": "code",
      "execution_count": null,
      "metadata": {
        "id": "KzvY9gwT5Poh"
      },
      "outputs": [],
      "source": [
        "import os\n",
        "import pandas as pd\n",
        "import re\n",
        "from tqdm.notebook import tqdm  # For progress bars in Google Colab\n",
        "\n",
        "# =============================================================================\n",
        "# 📄 extract_file_info\n",
        "# Extracts participant IDs and channel number from filenames like:\n",
        "#   \"v12p_vs_v89p_channel3.xlsx\"\n",
        "# Returns: (participant1_id, participant2_id, channel_id)\n",
        "# =============================================================================\n",
        "def extract_file_info(filename):\n",
        "    match = re.match(r'v(\\d+)p_vs_v(\\d+)p_channel(\\d+)', filename)\n",
        "    if match:\n",
        "        return tuple(map(int, match.groups()))\n",
        "    return None\n",
        "\n",
        "# =============================================================================\n",
        "# 🧠 get_group\n",
        "# Maps participant ID to its group:\n",
        "#   - \"ADHD\" if ID is from 1 to 61\n",
        "#   - \"CONTROL\" if ID is from 62 to 121\n",
        "# =============================================================================\n",
        "def get_group(participant_id):\n",
        "    return \"ADHD\" if 1 <= participant_id <= 61 else \"CONTROL\"\n",
        "\n",
        "# =============================================================================\n",
        "# 📊 classification_accuracy_based_on_median\n",
        "# Description:\n",
        "#   - For a specific signal window version (e.g., \"10s\", \"5s\", etc.),\n",
        "#     this function evaluates **classification accuracy** for each participant\n",
        "#     across 3 methods: \"avg\", \"median\", \"min\"\n",
        "#   - For each method/channel/participant:\n",
        "#       • Loads the NCD scores with all other participants (120 values)\n",
        "#       • Calculates the median NCD value\n",
        "#       • Predicts other participant's group:\n",
        "#           if val <= median ⇒ same group as current participant\n",
        "#           if val >  median ⇒ opposite group\n",
        "#       • Compares with true group and computes accuracy\n",
        "#\n",
        "# Inputs:\n",
        "#   - version: subfolder name of signal window (e.g., \"10s\", \"5s\", etc.)\n",
        "#   - base_path: main folder path (default is finalProject folder)\n",
        "#\n",
        "# Output:\n",
        "#   - Creates Excel file per participant under:\n",
        "#     /classification_based_on_median/{version}/participant_{ID}.xlsx\n",
        "#   - Each Excel file includes accuracy per channel per method\n",
        "# =============================================================================\n",
        "def classification_accuracy_based_on_median(version, base_path=\"/content/drive/MyDrive/finalProject\"):\n",
        "    versions = [\"avg\", \"median\", \"min\"]\n",
        "    channels = list(range(19))         # 0 to 18\n",
        "    participants = list(range(1, 122)) # v1p to v121p\n",
        "    output_base = os.path.join(base_path, \"classification_based_on_median\", version)\n",
        "    os.makedirs(output_base, exist_ok=True)\n",
        "\n",
        "    for participant_id in tqdm(participants, desc=f\"🔁 Version {version}\"):\n",
        "        summary_data = []  # One row per method (avg, median, min)\n",
        "\n",
        "        for vtype in versions:\n",
        "            row = []\n",
        "            for channel in channels:\n",
        "                input_file = os.path.join(base_path, vtype, version, f\"channel{channel}\", f\"participant_{participant_id}.txt\")\n",
        "                if not os.path.exists(input_file):\n",
        "                    row.append(\"NA\")\n",
        "                    continue\n",
        "\n",
        "                try:\n",
        "                    with open(input_file, \"r\") as f:\n",
        "                        lines = f.readlines()\n",
        "                except:\n",
        "                    row.append(\"NA\")\n",
        "                    continue\n",
        "\n",
        "                ncd_values = []\n",
        "                compared_ids = []\n",
        "\n",
        "                # 🧾 Extract NCD values and corresponding other participant IDs\n",
        "                for line in lines:\n",
        "                    if line.startswith(\"v\") and \":\" in line:\n",
        "                        try:\n",
        "                            fname, val = line.split(\":\")\n",
        "                            val = float(val.strip())\n",
        "                            ids = extract_file_info(fname.strip())\n",
        "                            if ids:\n",
        "                                i, j, _ = ids\n",
        "                                other_id = j if i == participant_id else i\n",
        "                                ncd_values.append(val)\n",
        "                                compared_ids.append(other_id)\n",
        "                        except:\n",
        "                            continue\n",
        "\n",
        "                # Skip if not all 120 values are present\n",
        "                if len(ncd_values) != 120:\n",
        "                    row.append(\"NA\")\n",
        "                    continue\n",
        "\n",
        "                # 💡 Classification logic based on median threshold\n",
        "                median_val = pd.Series(ncd_values).median()\n",
        "                participant_group = get_group(participant_id)\n",
        "\n",
        "                correct_predictions = 0\n",
        "                for val, other_id in zip(ncd_values, compared_ids):\n",
        "                    predicted_group = participant_group if val <= median_val else (\"CONTROL\" if participant_group == \"ADHD\" else \"ADHD\")\n",
        "                    true_group = get_group(other_id)\n",
        "                    if predicted_group == true_group:\n",
        "                        correct_predictions += 1\n",
        "\n",
        "                accuracy = correct_predictions / 120\n",
        "                row.append(round(accuracy, 5))  # Round for readability\n",
        "\n",
        "            summary_data.append(row)\n",
        "\n",
        "        # 📝 Save results to Excel\n",
        "        df = pd.DataFrame(summary_data, columns=[f\"Channel {i}\" for i in channels], index=[\"avg\", \"median\", \"min\"])\n",
        "        output_file = os.path.join(output_base, f\"participant_{participant_id}.xlsx\")\n",
        "        df.to_excel(output_file)\n",
        "\n",
        "    print(f\"✅ Done: All classification accuracy files saved as .xlsx under {output_base}\")\n"
      ]
    },
    {
      "cell_type": "code",
      "execution_count": null,
      "metadata": {
        "id": "3by6JvjD7xTa"
      },
      "outputs": [],
      "source": [
        "classification_accuracy_based_on_median(\"5s\")"
      ]
    },
    {
      "cell_type": "code",
      "execution_count": null,
      "metadata": {
        "id": "nhcfB_M6Gck3"
      },
      "outputs": [],
      "source": [
        "classification_accuracy_based_on_median(\"6s\")"
      ]
    },
    {
      "cell_type": "code",
      "execution_count": null,
      "metadata": {
        "id": "Fng1woK8KR2U"
      },
      "outputs": [],
      "source": [
        "classification_accuracy_based_on_median(\"8s\")"
      ]
    },
    {
      "cell_type": "code",
      "execution_count": null,
      "metadata": {
        "id": "iUeGJDvGKSyE"
      },
      "outputs": [],
      "source": [
        "classification_accuracy_based_on_median(\"10s\")"
      ]
    },
    {
      "cell_type": "code",
      "source": [
        "classification_accuracy_based_on_median(\"2s\")"
      ],
      "metadata": {
        "id": "vSaSUZXbQIfr"
      },
      "execution_count": null,
      "outputs": []
    },
    {
      "cell_type": "code",
      "execution_count": null,
      "metadata": {
        "id": "Xi7vW_NBbkLe"
      },
      "outputs": [],
      "source": [
        "import os\n",
        "import pandas as pd\n",
        "\n",
        "# =============================================================================\n",
        "# 🧠 find_max_classification_score\n",
        "# Description:\n",
        "#   - Iterates over all versions (time windows) of classification results\n",
        "#   - For each participant Excel file (contains accuracy across 19 channels and 3 methods),\n",
        "#     it identifies the highest classification score\n",
        "#\n",
        "# Inputs:\n",
        "#   - base_path: base folder where classification results are stored\n",
        "#     Default path: \"/content/drive/MyDrive/finalProject/classification_based_on_median\"\n",
        "#\n",
        "# Output:\n",
        "#   - For each version (\"2s\", \"5s\", \"6s\", \"8s\", \"10s\"):\n",
        "#     ➤ Prints the highest classification score found\n",
        "#     ➤ Shows the participant ID, channel, and method responsible for that score\n",
        "# =============================================================================\n",
        "def find_max_classification_score(base_path=\"/content/drive/MyDrive/finalProject/classification_based_on_median\"):\n",
        "    versions = [\"5s\", \"6s\", \"8s\", \"10s\", \"2s\"]  # All processed time-window versions\n",
        "    methods = [\"avg\", \"median\", \"min\"]         # NCD aggregation methods\n",
        "    channels = [f\"Channel {i}\" for i in range(19)]  # Channel column headers\n",
        "\n",
        "    for version in versions:\n",
        "        print(f\"\\n🔎 Searching in version: {version}\")\n",
        "        folder_path = os.path.join(base_path, version)\n",
        "\n",
        "        if not os.path.exists(folder_path):\n",
        "            print(f\"⚠️ Folder not found: {folder_path}\")\n",
        "            continue\n",
        "\n",
        "        max_score = -1         # Highest accuracy found so far\n",
        "        best_info = {}         # Metadata for the highest score\n",
        "\n",
        "        for filename in os.listdir(folder_path):\n",
        "            if not filename.endswith(\".xlsx\"):\n",
        "                continue\n",
        "\n",
        "            filepath = os.path.join(folder_path, filename)\n",
        "            participant_id = filename.replace(\"participant_\", \"\").replace(\".xlsx\", \"\")\n",
        "\n",
        "            try:\n",
        "                df = pd.read_excel(filepath, index_col=0)  # Each file has methods as index, channels as columns\n",
        "            except Exception as e:\n",
        "                print(f\"❌ Failed to read {filepath}: {e}\")\n",
        "                continue\n",
        "\n",
        "            for method in methods:\n",
        "                if method not in df.index:\n",
        "                    continue  # Skip if method row missing\n",
        "\n",
        "                for channel in channels:\n",
        "                    value = df.at[method, channel]\n",
        "                    if isinstance(value, (int, float)) and value > max_score:\n",
        "                        # 🔼 New max found!\n",
        "                        max_score = value\n",
        "                        best_info = {\n",
        "                            \"version\": version,\n",
        "                            \"participant\": participant_id,\n",
        "                            \"channel\": channel,\n",
        "                            \"method\": method,\n",
        "                            \"score\": value\n",
        "                        }\n",
        "\n",
        "        # 🟢 Final best for current version\n",
        "        if best_info:\n",
        "            print(f\"✅ Max classification score in version {version}:\")\n",
        "            print(f\"   Participant: {best_info['participant']}\")\n",
        "            print(f\"   Channel: {best_info['channel']}\")\n",
        "            print(f\"   Method: {best_info['method']}\")\n",
        "            print(f\"   Score: {best_info['score']:.5f}\")\n",
        "        else:\n",
        "            print(\"⚠️ No valid classification scores found.\")\n"
      ]
    },
    {
      "cell_type": "code",
      "execution_count": null,
      "metadata": {
        "id": "5HOg0CZQbn0f"
      },
      "outputs": [],
      "source": [
        "find_max_classification_score()"
      ]
    },
    {
      "cell_type": "code",
      "source": [
        "import os\n",
        "import pandas as pd\n",
        "\n",
        "# =============================================================================\n",
        "# 📊 generate_high_classification_summary\n",
        "# -----------------------------------------------------------------------------\n",
        "# Purpose:\n",
        "#   - Scans classification results (stored as Excel files for each participant)\n",
        "#   - Identifies and extracts all classification scores ≥ 0.60\n",
        "#   - Compiles them into a single summary table with metadata\n",
        "#\n",
        "# Inputs:\n",
        "#   - base_path: Root folder of the project\n",
        "#     (defaults to \"/content/drive/MyDrive/finalProject\")\n",
        "#\n",
        "# Outputs:\n",
        "#   - Creates a summary Excel file with all high classification scores:\n",
        "#     ➤ version (e.g., 2s, 5s, ...)\n",
        "#     ➤ score (≥ 0.60)\n",
        "#     ➤ participant ID\n",
        "#     ➤ channel number (0–18)\n",
        "#     ➤ method used (avg, median, min)\n",
        "#\n",
        "#   - Output is saved to: /high_scores_summary/high_scores.xlsx\n",
        "# =============================================================================\n",
        "def generate_high_classification_summary(base_path=\"/content/drive/MyDrive/finalProject\"):\n",
        "    versions = [\"2s\", \"5s\", \"6s\", \"8s\", \"10s\"]         # EEG window sizes\n",
        "    methods = [\"avg\", \"median\", \"min\"]                # Score aggregation methods\n",
        "    summary_rows = []                                 # List to collect high-score entries\n",
        "\n",
        "    for version in versions:\n",
        "        print(f\"🔎 Processing version: {version}\")\n",
        "        version_path = os.path.join(base_path, \"classification_based_on_median\", version)\n",
        "\n",
        "        if not os.path.exists(version_path):\n",
        "            print(f\"⚠️ Skipping missing folder: {version_path}\")\n",
        "            continue\n",
        "\n",
        "        # Loop through each participant file\n",
        "        for file in os.listdir(version_path):\n",
        "            if not file.endswith(\".xlsx\"):\n",
        "                continue\n",
        "\n",
        "            # Extract participant ID from filename\n",
        "            participant_id = int(file.split(\"_\")[1].split(\".\")[0])\n",
        "            filepath = os.path.join(version_path, file)\n",
        "\n",
        "            try:\n",
        "                # Read the Excel file (index = method, columns = Channel 0–18)\n",
        "                df = pd.read_excel(filepath, index_col=0)\n",
        "            except Exception as e:\n",
        "                print(f\"❌ Failed to read {file}: {e}\")\n",
        "                continue\n",
        "\n",
        "            # For each method (row)\n",
        "            for method in methods:\n",
        "                if method not in df.index:\n",
        "                    continue\n",
        "\n",
        "                # For each channel (column)\n",
        "                for channel in df.columns:\n",
        "                    try:\n",
        "                        score = df.loc[method, channel]\n",
        "                        # Keep only scores ≥ 0.60\n",
        "                        if isinstance(score, (int, float)) and score >= 0.60:\n",
        "                            summary_rows.append({\n",
        "                                \"score number\": len(summary_rows) + 1,\n",
        "                                \"version\": version,\n",
        "                                \"score\": round(score, 5),\n",
        "                                \"participant\": participant_id,\n",
        "                                \"channel\": channel.replace(\"Channel \", \"\"),  # Just number\n",
        "                                \"method\": method\n",
        "                            })\n",
        "                    except Exception:\n",
        "                        continue  # Skip if any issue in reading this cell\n",
        "\n",
        "    # Create and save summary DataFrame\n",
        "    summary_df = pd.DataFrame(summary_rows)\n",
        "\n",
        "    output_folder = os.path.join(base_path, \"high_scores_summary\")\n",
        "    os.makedirs(output_folder, exist_ok=True)\n",
        "\n",
        "    output_file = os.path.join(output_folder, \"high_scores.xlsx\")\n",
        "    summary_df.to_excel(output_file, index=False)\n",
        "\n",
        "    print(f\"\\n✅ Summary file saved to: {output_file}\")\n"
      ],
      "metadata": {
        "id": "w-O0lR6tk3pG"
      },
      "execution_count": null,
      "outputs": []
    },
    {
      "cell_type": "code",
      "source": [
        "generate_high_classification_summary()"
      ],
      "metadata": {
        "id": "lIxd9-RplqK0"
      },
      "execution_count": null,
      "outputs": []
    },
    {
      "cell_type": "markdown",
      "source": [
        "# **Graphs**"
      ],
      "metadata": {
        "id": "IJxgAUxXTkNZ"
      }
    },
    {
      "cell_type": "code",
      "source": [
        "import pandas as pd\n",
        "import matplotlib.pyplot as plt\n",
        "\n",
        "# ============================================================================\n",
        "# 📊 High Classification Score Chart Generator\n",
        "# ----------------------------------------------------------------------------\n",
        "# Purpose:\n",
        "#   - Load the summary of high classification scores from an Excel file\n",
        "#   - Count how many scores (≥ 60%) appear for each EEG channel\n",
        "#   - Plot a bar chart: Channel vs. Number of High Scores\n",
        "#   - Save the chart as a PNG image\n",
        "# ============================================================================\n",
        "\n",
        "# === Step 1: Load Excel File ===\n",
        "file_path = \"/content/drive/MyDrive/finalProject/high_scores_summary/high_scores.xlsx\"\n",
        "df = pd.read_excel(file_path)\n",
        "\n",
        "# === Step 2: Clean Column Names ===\n",
        "df.columns = df.columns.str.strip()  # Ensure column names have no leading/trailing whitespace\n",
        "print(\"📋 Columns:\", df.columns.tolist())\n",
        "\n",
        "# === Step 3: Filter and Count High Scores per Channel ===\n",
        "# Check required columns exist\n",
        "if \"score\" not in df.columns or \"channel\" not in df.columns:\n",
        "    raise ValueError(\"Missing required columns 'score' or 'channel' in the file.\")\n",
        "\n",
        "# Filter scores ≥ 0.60 and count occurrences per channel\n",
        "channel_counts = (\n",
        "    df[df[\"score\"] >= 0.60][\"channel\"]\n",
        "    .value_counts()        # Count high scores per channel\n",
        "    .sort_index()          # Sort channels numerically\n",
        ")\n",
        "\n",
        "# === Step 4: Plot the Bar Chart ===\n",
        "plt.figure(figsize=(12, 6))\n",
        "channel_counts.plot(kind=\"bar\", color=\"skyblue\")\n",
        "plt.title(\"Number of Scores ≥ 60% per Channel\", fontsize=16)\n",
        "plt.xlabel(\"Channel\", fontsize=12)\n",
        "plt.ylabel(\"Count of High Scores\", fontsize=12)\n",
        "plt.xticks(rotation=0)\n",
        "plt.grid(axis='y')\n",
        "\n",
        "# === Step 5: Save the Chart as PNG ===\n",
        "output_path = \"/content/drive/MyDrive/finalProject/high_scores_summary/channel_score_counts.png\"\n",
        "plt.savefig(output_path, bbox_inches='tight')\n",
        "plt.show()\n",
        "\n",
        "print(f\"✅ Chart saved to: {output_path}\")\n"
      ],
      "metadata": {
        "colab": {
          "base_uri": "https://localhost:8080/",
          "height": 605
        },
        "id": "oBJEXRSATkrC",
        "outputId": "65e5c36e-cdd8-481b-f2bf-bcdee75d1718"
      },
      "execution_count": null,
      "outputs": [
        {
          "output_type": "stream",
          "name": "stdout",
          "text": [
            "📋 Columns: ['score number', 'version', 'score', 'participant', 'channel', 'method']\n"
          ]
        },
        {
          "output_type": "display_data",
          "data": {
            "text/plain": [
              "<Figure size 1200x600 with 1 Axes>"
            ],
            "image/png": "[encoded data removed]"
          },
          "metadata": {}
        },
        {
          "output_type": "stream",
          "name": "stdout",
          "text": [
            "✅ Chart saved to: /content/drive/MyDrive/finalProject/high_scores_summary/channel_score_counts.png\n"
          ]
        }
      ]
    },
    {
      "cell_type": "code",
      "source": [
        "import pandas as pd\n",
        "import matplotlib.pyplot as plt\n",
        "import os\n",
        "\n",
        "# ============================================================================\n",
        "# 📊 Per-Version Channel Performance Chart Generator\n",
        "# ----------------------------------------------------------------------------\n",
        "# Purpose:\n",
        "#   - For each sliding window version (e.g., 2s, 5s, ...), generate a chart\n",
        "#     showing how many EEG channels achieved classification score ≥ 60%.\n",
        "#   - Saves each chart as a separate PNG image.\n",
        "# ============================================================================\n",
        "\n",
        "# === Load data from summary Excel file ===\n",
        "file_path = \"/content/drive/MyDrive/finalProject/high_scores_summary/high_scores.xlsx\"\n",
        "df = pd.read_excel(file_path)\n",
        "\n",
        "# === Clean column names (remove any leading/trailing spaces) ===\n",
        "df.columns = df.columns.str.strip()\n",
        "\n",
        "# === Check that required columns are present ===\n",
        "required_cols = {\"score\", \"channel\", \"version\"}\n",
        "if not required_cols.issubset(set(df.columns)):\n",
        "    raise ValueError(f\"Missing required columns: {required_cols - set(df.columns)}\")\n",
        "\n",
        "# === Define all window versions to process ===\n",
        "versions = [\"2s\", \"5s\", \"6s\", \"8s\", \"10s\"]\n",
        "\n",
        "# === Set output directory for saving charts ===\n",
        "output_dir = \"/content/drive/MyDrive/finalProject/high_scores_summary\"\n",
        "\n",
        "# === Generate bar chart for each version ===\n",
        "for version in versions:\n",
        "    # Filter for current version and scores >= 0.60\n",
        "    version_df = df[(df[\"version\"] == version) & (df[\"score\"] >= 0.60)]\n",
        "\n",
        "    if version_df.empty:\n",
        "        print(f\"⚠️ No high scores for version {version}, skipping.\")\n",
        "        continue\n",
        "\n",
        "    # Count number of high scores per channel\n",
        "    channel_counts = version_df[\"channel\"].value_counts().sort_index()\n",
        "\n",
        "    # === Plotting ===\n",
        "    plt.figure(figsize=(12, 6))\n",
        "    channel_counts.plot(kind=\"bar\", color=\"skyblue\")\n",
        "    plt.title(f\"Scores ≥ 60% per Channel — Version {version}\", fontsize=16)\n",
        "    plt.xlabel(\"Channel\", fontsize=12)\n",
        "    plt.ylabel(\"Count of High Scores\", fontsize=12)\n",
        "    plt.xticks(rotation=0)\n",
        "    plt.grid(axis='y')\n",
        "\n",
        "    # === Save chart as PNG ===\n",
        "    output_file = os.path.join(output_dir, f\"channel_scores_{version}.png\")\n",
        "    plt.savefig(output_file, bbox_inches='tight')\n",
        "    plt.close()\n",
        "\n",
        "    print(f\"✅ Saved: {output_file}\")\n"
      ],
      "metadata": {
        "colab": {
          "base_uri": "https://localhost:8080/"
        },
        "id": "4e05DpH6WMOM",
        "outputId": "9afaef5c-3157-4f5b-dd9a-b12d5e77db52"
      },
      "execution_count": null,
      "outputs": [
        {
          "output_type": "stream",
          "name": "stdout",
          "text": [
            "✅ Saved: /content/drive/MyDrive/finalProject/high_scores_summary/channel_scores_2s.png\n",
            "✅ Saved: /content/drive/MyDrive/finalProject/high_scores_summary/channel_scores_5s.png\n",
            "✅ Saved: /content/drive/MyDrive/finalProject/high_scores_summary/channel_scores_6s.png\n",
            "✅ Saved: /content/drive/MyDrive/finalProject/high_scores_summary/channel_scores_8s.png\n",
            "✅ Saved: /content/drive/MyDrive/finalProject/high_scores_summary/channel_scores_10s.png\n"
          ]
        }
      ]
    },
    {
      "cell_type": "code",
      "source": [
        "import pandas as pd\n",
        "import matplotlib.pyplot as plt\n",
        "import os\n",
        "\n",
        "# ============================================================================\n",
        "# 📊 Participant High Score Visualizer\n",
        "# ----------------------------------------------------------------------------\n",
        "# Purpose:\n",
        "#   - Generate bar charts showing how many channels for each participant\n",
        "#     achieved a classification score ≥ 60%.\n",
        "#   - Output includes:\n",
        "#       1. One chart for ALL versions combined\n",
        "#       2. One chart per version (2s, 5s, 6s, 8s, 10s)\n",
        "# ============================================================================\n",
        "\n",
        "# === Define file paths and version names ===\n",
        "file_path = \"/content/drive/MyDrive/finalProject/high_scores_summary/high_scores.xlsx\"\n",
        "output_dir = \"/content/drive/MyDrive/finalProject/high_scores_summary\"\n",
        "versions = [\"2s\", \"5s\", \"6s\", \"8s\", \"10s\"]\n",
        "\n",
        "# === Load the Excel summary file ===\n",
        "df = pd.read_excel(file_path)\n",
        "\n",
        "# === Clean column names (remove any extra spaces) ===\n",
        "df.columns = df.columns.str.strip()\n",
        "\n",
        "# ============================================================================\n",
        "# 🧩 Function: Plot & Save Participant Score Histogram\n",
        "# ----------------------------------------------------------------------------\n",
        "# Parameters:\n",
        "#   - df_subset: filtered DataFrame (can be full or per version)\n",
        "#   - title: plot title\n",
        "#   - filename: output image filename\n",
        "# ============================================================================\n",
        "def plot_scores_per_participant(df_subset, title, filename):\n",
        "    # Count number of high scores per participant (score ≥ 0.60)\n",
        "    participant_counts = df_subset[df_subset[\"score\"] >= 0.60][\"participant\"] \\\n",
        "                         .value_counts().sort_index()\n",
        "\n",
        "    # === Plot bar chart ===\n",
        "    plt.figure(figsize=(16, 6))\n",
        "    participant_counts.plot(kind=\"bar\", color=\"mediumseagreen\")\n",
        "    plt.title(title, fontsize=16)\n",
        "    plt.xlabel(\"Participant Number\", fontsize=12)\n",
        "    plt.ylabel(\"Count of High Scores (≥ 60%)\", fontsize=12)\n",
        "    plt.xticks(rotation=90)\n",
        "    plt.grid(axis='y')\n",
        "    plt.tight_layout()\n",
        "\n",
        "    # === Save chart ===\n",
        "    save_path = os.path.join(output_dir, filename)\n",
        "    plt.savefig(save_path)\n",
        "    plt.close()\n",
        "    print(f\"✅ Saved: {save_path}\")\n",
        "\n",
        "# ============================================================================\n",
        "# ✅ Generate Chart 1: All Versions Combined\n",
        "# ============================================================================\n",
        "plot_scores_per_participant(\n",
        "    df,\n",
        "    \"High Classification Scores (≥ 60%) per Participant – All Versions\",\n",
        "    \"participant_scores_all_versions.png\"\n",
        ")\n",
        "\n",
        "# ============================================================================\n",
        "# ✅ Generate Chart 2: Per Version (2s, 5s, 6s, 8s, 10s)\n",
        "# ============================================================================\n",
        "for version in versions:\n",
        "    df_version = df[df[\"version\"] == version]\n",
        "    if df_version.empty:\n",
        "        print(f\"⚠️ No data for version {version}, skipping.\")\n",
        "        continue\n",
        "\n",
        "    plot_scores_per_participant(\n",
        "        df_version,\n",
        "        f\"High Classification Scores (≥ 60%) per Participant – Version {version}\",\n",
        "        f\"participant_scores_{version}.png\"\n",
        "    )\n"
      ],
      "metadata": {
        "colab": {
          "base_uri": "https://localhost:8080/"
        },
        "id": "TjHdVOeNWx5R",
        "outputId": "1d08706b-7276-4b63-efb9-bb5015e06e57"
      },
      "execution_count": null,
      "outputs": [
        {
          "output_type": "stream",
          "name": "stdout",
          "text": [
            "✅ Saved: /content/drive/MyDrive/finalProject/high_scores_summary/participant_scores_all_versions.png\n",
            "✅ Saved: /content/drive/MyDrive/finalProject/high_scores_summary/participant_scores_2s.png\n",
            "✅ Saved: /content/drive/MyDrive/finalProject/high_scores_summary/participant_scores_5s.png\n",
            "✅ Saved: /content/drive/MyDrive/finalProject/high_scores_summary/participant_scores_6s.png\n",
            "✅ Saved: /content/drive/MyDrive/finalProject/high_scores_summary/participant_scores_8s.png\n",
            "✅ Saved: /content/drive/MyDrive/finalProject/high_scores_summary/participant_scores_10s.png\n"
          ]
        }
      ]
    },
    {
      "cell_type": "code",
      "source": [
        "import pandas as pd\n",
        "import matplotlib.pyplot as plt\n",
        "import os\n",
        "\n",
        "# ============================================================================\n",
        "# 📈 Participant High Score Visualizer — Per Method & Version\n",
        "# ----------------------------------------------------------------------------\n",
        "# Purpose:\n",
        "#   - For each NCD method (\"avg\", \"median\", \"min\"), this script:\n",
        "#       1. Shows how many times each participant got ≥ 60% classification\n",
        "#          scores across all versions combined\n",
        "#       2. Creates separate graphs per version (\"2s\", \"5s\", \"6s\", \"8s\", \"10s\")\n",
        "#   - Output: Bar charts saved as .png files under high_scores_summary\n",
        "# ============================================================================\n",
        "\n",
        "# === Define data paths and configuration ===\n",
        "file_path = \"/content/drive/MyDrive/finalProject/high_scores_summary/high_scores.xlsx\"\n",
        "output_dir = \"/content/drive/MyDrive/finalProject/high_scores_summary\"\n",
        "versions = [\"2s\", \"5s\", \"6s\", \"8s\", \"10s\"]\n",
        "methods = [\"avg\", \"median\", \"min\"]\n",
        "\n",
        "# === Load the summary Excel file ===\n",
        "df = pd.read_excel(file_path)\n",
        "\n",
        "# Clean column names (strip whitespace)\n",
        "df.columns = df.columns.str.strip()\n",
        "\n",
        "# ============================================================================\n",
        "# 🧩 Function: Plot and Save Participant Score Histogram\n",
        "# ----------------------------------------------------------------------------\n",
        "# Inputs:\n",
        "#   - df_subset: Filtered DataFrame (per method/version)\n",
        "#   - title: Title for the plot\n",
        "#   - filename: Output PNG filename\n",
        "# Output:\n",
        "#   - Saves a bar chart showing number of high scores (≥ 60%) per participant\n",
        "# ============================================================================\n",
        "def plot_scores(df_subset, title, filename):\n",
        "    # Count scores ≥ 0.60 per participant\n",
        "    participant_counts = df_subset[df_subset[\"score\"] >= 0.60][\"participant\"] \\\n",
        "                         .value_counts().sort_index()\n",
        "\n",
        "    # Plot the bar chart\n",
        "    plt.figure(figsize=(16, 6))\n",
        "    participant_counts.plot(kind=\"bar\", color=\"steelblue\")\n",
        "    plt.title(title, fontsize=16)\n",
        "    plt.xlabel(\"Participant Number\", fontsize=12)\n",
        "    plt.ylabel(\"Count of High Scores (≥ 60%)\", fontsize=12)\n",
        "    plt.xticks(rotation=90)\n",
        "    plt.grid(axis='y')\n",
        "    plt.tight_layout()\n",
        "\n",
        "    # Save the chart\n",
        "    save_path = os.path.join(output_dir, filename)\n",
        "    plt.savefig(save_path)\n",
        "    plt.close()\n",
        "    print(f\"✅ Saved: {save_path}\")\n",
        "\n",
        "# ============================================================================\n",
        "# 📊 Main Loop: Generate Graphs for Each Method\n",
        "# ============================================================================\n",
        "for method in methods:\n",
        "    # === Step 1: All Versions Combined ===\n",
        "    df_method = df[df[\"method\"] == method]\n",
        "    plot_scores(\n",
        "        df_method,\n",
        "        f\"High Scores ≥ 60% per Participant – Method: {method.upper()} (All Versions)\",\n",
        "        f\"participant_scores_{method}_all_versions.png\"\n",
        "    )\n",
        "\n",
        "    # === Step 2: Per Version ===\n",
        "    for version in versions:\n",
        "        df_subset = df_method[df_method[\"version\"] == version]\n",
        "        if df_subset.empty:\n",
        "            print(f\"⚠️ No data for method '{method}' in version '{version}', skipping.\")\n",
        "            continue\n",
        "\n",
        "        plot_scores(\n",
        "            df_subset,\n",
        "            f\"High Scores ≥ 60% per Participant – Method: {method.upper()} | Version: {version}\",\n",
        "            f\"participant_scores_{method}_{version}.png\"\n",
        "        )\n"
      ],
      "metadata": {
        "colab": {
          "base_uri": "https://localhost:8080/"
        },
        "id": "CSAgYFE9XN4W",
        "outputId": "a1623b39-cee2-488b-8eac-be2c4c298380"
      },
      "execution_count": null,
      "outputs": [
        {
          "output_type": "stream",
          "name": "stdout",
          "text": [
            "✅ Saved: /content/drive/MyDrive/finalProject/high_scores_summary/participant_scores_avg_all_versions.png\n",
            "✅ Saved: /content/drive/MyDrive/finalProject/high_scores_summary/participant_scores_avg_2s.png\n",
            "✅ Saved: /content/drive/MyDrive/finalProject/high_scores_summary/participant_scores_avg_5s.png\n",
            "✅ Saved: /content/drive/MyDrive/finalProject/high_scores_summary/participant_scores_avg_6s.png\n",
            "✅ Saved: /content/drive/MyDrive/finalProject/high_scores_summary/participant_scores_avg_8s.png\n",
            "✅ Saved: /content/drive/MyDrive/finalProject/high_scores_summary/participant_scores_avg_10s.png\n",
            "✅ Saved: /content/drive/MyDrive/finalProject/high_scores_summary/participant_scores_median_all_versions.png\n",
            "✅ Saved: /content/drive/MyDrive/finalProject/high_scores_summary/participant_scores_median_2s.png\n",
            "✅ Saved: /content/drive/MyDrive/finalProject/high_scores_summary/participant_scores_median_5s.png\n",
            "✅ Saved: /content/drive/MyDrive/finalProject/high_scores_summary/participant_scores_median_6s.png\n",
            "✅ Saved: /content/drive/MyDrive/finalProject/high_scores_summary/participant_scores_median_8s.png\n",
            "✅ Saved: /content/drive/MyDrive/finalProject/high_scores_summary/participant_scores_median_10s.png\n",
            "✅ Saved: /content/drive/MyDrive/finalProject/high_scores_summary/participant_scores_min_all_versions.png\n",
            "✅ Saved: /content/drive/MyDrive/finalProject/high_scores_summary/participant_scores_min_2s.png\n",
            "✅ Saved: /content/drive/MyDrive/finalProject/high_scores_summary/participant_scores_min_5s.png\n",
            "✅ Saved: /content/drive/MyDrive/finalProject/high_scores_summary/participant_scores_min_6s.png\n",
            "✅ Saved: /content/drive/MyDrive/finalProject/high_scores_summary/participant_scores_min_8s.png\n"
          ]
        }
      ]
    }
  ],
  "metadata": {
    "colab": {
      "collapsed_sections": [
        "1DhZIpehk_6A",
        "NqDL6I627Gr6",
        "JLCZjZop65FM",
        "ARXrf2eHHIWG",
        "hLRCUBgrXZKm",
        "lduItTuIXQv4",
        "gprjFnnByrSZ"
      ],
      "provenance": []
    },
    "kernelspec": {
      "display_name": "Python 3",
      "name": "python3"
    },
    "language_info": {
      "name": "python"
    }
  },
  "nbformat": 4,
  "nbformat_minor": 0
}